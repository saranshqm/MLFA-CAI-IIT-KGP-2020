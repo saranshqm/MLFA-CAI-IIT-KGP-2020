{
 "cells": [
  {
   "cell_type": "markdown",
   "metadata": {},
   "source": [
    "# Assignmemt 2\n",
    "\n",
    "### Linear and Sparse Regression\n",
    "\n",
    "###### Submitted by Saransh Gupta | 17QM30005"
   ]
  },
  {
   "cell_type": "markdown",
   "metadata": {},
   "source": [
    "IMPORT THE REQUIRED LIBRARIES"
   ]
  },
  {
   "cell_type": "code",
   "execution_count": 1,
   "metadata": {},
   "outputs": [],
   "source": [
    "import pandas as pd\n",
    "import math\n",
    "from sklearn.utils import shuffle\n",
    "import numpy as np\n",
    "import random\n",
    "import matplotlib.pyplot as plt\n",
    "from sklearn.model_selection import train_test_split\n",
    "from sklearn.preprocessing import StandardScaler\n",
    "from sklearn import linear_model\n",
    "from sklearn.model_selection import GridSearchCV\n",
    "from sklearn.linear_model import Lasso"
   ]
  },
  {
   "cell_type": "markdown",
   "metadata": {},
   "source": [
    "Read Data From the Local Machine|"
   ]
  },
  {
   "cell_type": "code",
   "execution_count": 2,
   "metadata": {},
   "outputs": [
    {
     "name": "stdout",
     "output_type": "stream",
     "text": [
      "(200, 4)\n"
     ]
    }
   ],
   "source": [
    "df = pd.read_csv('Advertising Dataset.csv')\n",
    "df = df[df.columns[1:]]\n",
    "print(df.shape)"
   ]
  },
  {
   "cell_type": "markdown",
   "metadata": {},
   "source": [
    "### 1) Randomly divide the dataset into training (75%) and testing (25%) subsets [1 mark]"
   ]
  },
  {
   "cell_type": "code",
   "execution_count": 3,
   "metadata": {},
   "outputs": [],
   "source": [
    "# shuffling the data randomly\n",
    "random.seed(42)\n",
    "df = shuffle(df, random_state = 22)\n",
    "train_size = int(.75 * len(df)) \n",
    "\n",
    "# splitting the data\n",
    "train_set = df[:train_size]\n",
    "test_set = df[train_size:]"
   ]
  },
  {
   "cell_type": "markdown",
   "metadata": {},
   "source": [
    "setting target variables and input variables (y and x)"
   ]
  },
  {
   "cell_type": "code",
   "execution_count": 4,
   "metadata": {},
   "outputs": [],
   "source": [
    "X_train = np.array(train_set[train_set.columns[:-1]])\n",
    "y_train = np.array(train_set[train_set.columns[-1]])\n",
    "\n",
    "X_test = np.array(test_set[test_set.columns[:-1]])\n",
    "y_test = np.array(test_set[test_set.columns[-1]])"
   ]
  },
  {
   "cell_type": "markdown",
   "metadata": {},
   "source": [
    "### 2) Using Linear Regression, fit a model to predict the sales from investments using your own formula. Compare the coefficients as found by the python library function [3 marks]"
   ]
  },
  {
   "cell_type": "markdown",
   "metadata": {},
   "source": [
    "###### 1. using our own formula"
   ]
  },
  {
   "cell_type": "code",
   "execution_count": 5,
   "metadata": {},
   "outputs": [],
   "source": [
    "class OrdinaryLeastSquared (object):\n",
    "    \n",
    "    def __init__(self):\n",
    "        self.coefficients = []\n",
    "\n",
    "    def _reshape_x(self, X):\n",
    "        return X.reshape(-1, 1)\n",
    "\n",
    "    def _concatneate_ones(self, X):\n",
    "        ones = np.ones(shape=X.shape[0]).reshape(-1, 1)\n",
    "        return np.concatenate((ones, X), 1)\n",
    "\n",
    "    def fit(self, X, y):\n",
    "        if len(X.shape) == 1:\n",
    "            X = self._reshape_x(X)\n",
    "        \n",
    "        X = self._concatneate_ones(X)\n",
    "\n",
    "        self.coefficients = np.linalg.inv(X.transpose().dot(X)).dot(\n",
    "            X.transpose().dot(y))\n",
    "    \n",
    "    def predict(self, entry):\n",
    "        b0 = self.coefficients[0]\n",
    "        sum_coeff = 0\n",
    "        for i in range(1000):\n",
    "            sum_coeff+=1\n",
    "        other_betas = self.coefficients[1:]\n",
    "\n",
    "        prediction = other_betas.transpose().dot(entry) + b0\n",
    "        \n",
    "        return prediction"
   ]
  },
  {
   "cell_type": "code",
   "execution_count": 6,
   "metadata": {},
   "outputs": [
    {
     "name": "stdout",
     "output_type": "stream",
     "text": [
      "Intercept obtained by our formula:  2.835103696229922\n",
      "Coefficients Obtained by our formula:  [ 0.04728357  0.18389365 -0.00254776]\n"
     ]
    }
   ],
   "source": [
    "model = OrdinaryLeastSquared()\n",
    "\n",
    "model.fit(X_train, y_train)\n",
    "b0 = model.coefficients[0]\n",
    "b1 = model.coefficients[1:]\n",
    "\n",
    "print('Intercept obtained by our formula: ', b0)\n",
    "print('Coefficients Obtained by our formula: ', b1)"
   ]
  },
  {
   "cell_type": "code",
   "execution_count": 7,
   "metadata": {},
   "outputs": [],
   "source": [
    "y_predictions = []\n",
    "\n",
    "for i in range(len(X_test)):\n",
    "    y_predictions.append(model.predict(X_test[i]))\n",
    "\n",
    "y_predictions = np.asarray(y_predictions)"
   ]
  },
  {
   "cell_type": "markdown",
   "metadata": {},
   "source": [
    "###### 2. predictions using sklearn"
   ]
  },
  {
   "cell_type": "code",
   "execution_count": 8,
   "metadata": {},
   "outputs": [
    {
     "name": "stdout",
     "output_type": "stream",
     "text": [
      "Coefficients obtained by the inbuilt function:-\n"
     ]
    },
    {
     "data": {
      "text/plain": [
       "(2.8351036962299236, array([ 0.04728357,  0.18389365, -0.00254776]))"
      ]
     },
     "execution_count": 8,
     "metadata": {},
     "output_type": "execute_result"
    }
   ],
   "source": [
    "reg = linear_model.LinearRegression().fit(X_train, y_train)\n",
    "\n",
    "b_ = reg.coef_\n",
    "print(\"Coefficients obtained by the inbuilt function:-\")\n",
    "reg.intercept_ , b_"
   ]
  },
  {
   "cell_type": "markdown",
   "metadata": {},
   "source": [
    "###### Coefficient Comparision"
   ]
  },
  {
   "cell_type": "code",
   "execution_count": 9,
   "metadata": {},
   "outputs": [
    {
     "name": "stdout",
     "output_type": "stream",
     "text": [
      "| our formula       vs       Inbuilt function |\n",
      "\n",
      "\n",
      "0.047283572287375786    vs     0.0472835722873757\n",
      "0.18389364565224187    vs     0.18389364565224217\n",
      "-0.002547761427424966    vs     -0.002547761427425632\n"
     ]
    }
   ],
   "source": [
    "print('|','our formula', '      vs      ', 'Inbuilt function','|')\n",
    "print('\\n')\n",
    "for i in range(3):\n",
    "    \n",
    "    print(b1[i],'   vs    ', b_[i])"
   ]
  },
  {
   "cell_type": "markdown",
   "metadata": {},
   "source": [
    "#### Intercept term comparision"
   ]
  },
  {
   "cell_type": "code",
   "execution_count": 10,
   "metadata": {},
   "outputs": [
    {
     "name": "stdout",
     "output_type": "stream",
     "text": [
      "| our formula       vs       Inbuilt function |\n",
      "\n",
      "\n",
      "2.835103696229922    vs     2.8351036962299236\n"
     ]
    }
   ],
   "source": [
    "print('|','our formula', '      vs      ', 'Inbuilt function','|')\n",
    "print('\\n')\n",
    "\n",
    "print(b0,'   vs    ', reg.intercept_)"
   ]
  },
  {
   "cell_type": "markdown",
   "metadata": {},
   "source": [
    "### 3) Compute the mean squared error on the testing set [1 marks]"
   ]
  },
  {
   "cell_type": "code",
   "execution_count": 11,
   "metadata": {},
   "outputs": [
    {
     "name": "stdout",
     "output_type": "stream",
     "text": [
      "MSE on the predictions obtained by our own formula:-\n",
      "2.6240993254631264\n"
     ]
    }
   ],
   "source": [
    "def mse(predictions, targets):\n",
    "    return np.square(np.subtract(targets,predictions)).mean() \n",
    "\n",
    "predictions = []\n",
    "                   \n",
    "\n",
    "for i in range(len(X_test)):\n",
    "    predictions.append(model.predict(X_test[i]))\n",
    "\n",
    "predictions = np.asarray(predictions)\n",
    "\n",
    "print(\"MSE on the predictions obtained by our own formula:-\")\n",
    "print(mse(predictions, y_test))"
   ]
  },
  {
   "cell_type": "code",
   "execution_count": 12,
   "metadata": {},
   "outputs": [
    {
     "name": "stdout",
     "output_type": "stream",
     "text": [
      "MSE on the predictions obtained by the inbuilt library function:-\n",
      "2.624099325463128\n"
     ]
    }
   ],
   "source": [
    "y_pred_lib = reg.predict(X_test)\n",
    "\n",
    "print(\"MSE on the predictions obtained by the inbuilt library function:-\")\n",
    "print(mse(y_pred_lib,y_test))"
   ]
  },
  {
   "cell_type": "markdown",
   "metadata": {},
   "source": [
    "### 4) Using ridge regression with different values of lambda (0.5, 1, 5, 10, 50, 100) plot the coefficients against each other, and also compare the test set mean squared errors. [3 marks]"
   ]
  },
  {
   "cell_type": "markdown",
   "metadata": {},
   "source": [
    "Ridge Regression Function"
   ]
  },
  {
   "cell_type": "code",
   "execution_count": 13,
   "metadata": {},
   "outputs": [],
   "source": [
    "class RidgeRegressor(object):\n",
    "    def fit(self, X, y, alpha):\n",
    "        G = alpha * np.eye(X.shape[1])\n",
    "        G[0, 0] = 0 \n",
    "        self.params = np.dot(np.linalg.inv(np.dot(X.T, X) + np.dot(G.T, G)),\n",
    "                             np.dot(X.T, y))\n",
    "\n",
    "    def predict(self, X):\n",
    "        sum_coeff = 0\n",
    "        for i in range(1000):\n",
    "            sum_coeff+=1\n",
    "        return np.dot(X, self.params),self.params\n"
   ]
  },
  {
   "cell_type": "code",
   "execution_count": 14,
   "metadata": {},
   "outputs": [
    {
     "data": {
      "text/plain": [
       "[<matplotlib.lines.Line2D at 0x1dcd9312a20>]"
      ]
     },
     "execution_count": 14,
     "metadata": {},
     "output_type": "execute_result"
    },
    {
     "data": {
      "image/png": "[encoded data removed]",
      "text/plain": [
       "<Figure size 432x288 with 1 Axes>"
      ]
     },
     "metadata": {
      "needs_background": "light"
     },
     "output_type": "display_data"
    }
   ],
   "source": [
    "alpha = [0.5, 1, 5, 10, 50, 100]\n",
    "\n",
    "model = RidgeRegressor()\n",
    "mse_ = []\n",
    "parameters = []\n",
    "for i in alpha:\n",
    "    model.fit(X_train, y_train, alpha = i)\n",
    "    Y_pred = model.predict(X_test)[0]\n",
    "    parameters.append(np.array(model.predict(X_test)[1]))\n",
    "    mse_.append(mse(Y_pred,y_test))\n",
    "    \n",
    "plt.title('Ridge Regression (MSE vs Lambda)')\n",
    "plt.ylabel('Mean Squared Error')\n",
    "plt.xlabel('Lambda')\n",
    "plt.plot(alpha,mse_,marker='*',color='b')"
   ]
  },
  {
   "cell_type": "code",
   "execution_count": 15,
   "metadata": {},
   "outputs": [],
   "source": [
    "param1 = []\n",
    "param2 = []\n",
    "param3 = []\n",
    "mean_coefficient = []\n",
    "for i in range(len(parameters)):\n",
    "    param1.append(parameters[i][0])\n",
    "    param2.append(parameters[i][1])\n",
    "    param3.append(parameters[i][2])\n",
    "    mean_coefficient.append((parameters[i][0]+parameters[i][1]+parameters[i][2])/3)"
   ]
  },
  {
   "cell_type": "code",
   "execution_count": 16,
   "metadata": {},
   "outputs": [
    {
     "data": {
      "text/plain": [
       "<matplotlib.legend.Legend at 0x1dcdd4384e0>"
      ]
     },
     "execution_count": 16,
     "metadata": {},
     "output_type": "execute_result"
    },
    {
     "data": {
      "image/png": "[encoded data removed]",
      "text/plain": [
       "<Figure size 432x288 with 1 Axes>"
      ]
     },
     "metadata": {
      "needs_background": "light"
     },
     "output_type": "display_data"
    }
   ],
   "source": [
    "\n",
    "plt.title('Plotting the coefficients against eachother')\n",
    "plt.ylabel('Coefficient')\n",
    "plt.xlabel('alpha')\n",
    "plt.plot(alpha,mean_coefficient,marker='o',color='b' ,label='MEAN COEFFICIENT')\n",
    "plt.plot(alpha,param2,marker='^',color='g' ,label='MAX COEFFICIENT')\n",
    "plt.legend()"
   ]
  },
  {
   "cell_type": "markdown",
   "metadata": {},
   "source": [
    "### 5) Use the library function of \"LASSO regression\" to find out which of the 3 features is most important, i.e. whose coefficient is furthest from 0. [2 marks]"
   ]
  },
  {
   "cell_type": "code",
   "execution_count": 17,
   "metadata": {},
   "outputs": [
    {
     "name": "stdout",
     "output_type": "stream",
     "text": [
      "All the available coefficients obtained using Lasso regression are:\n",
      "[ 0.04726655  0.18324393 -0.00219427]\n",
      "\n",
      "\n",
      "farthest from zero coefficient identified is =  0.1832439348339584\n",
      "\n",
      "\n",
      "Since, LASSO REGRESSION coeficient of feature #2 i.e. \"radio\" is farthest from 0 which means that \"radio\" is the most important feature out of all three present\n"
     ]
    }
   ],
   "source": [
    "lasso = Lasso(alpha = 0.1)\n",
    "lasso.fit(X_train,y_train)\n",
    "print('All the available coefficients obtained using Lasso regression are:')\n",
    "print(lasso.coef_)\n",
    "print('\\n')\n",
    "print('farthest from zero coefficient identified is = ', max(lasso.coef_))\n",
    "print('\\n')\n",
    "print('Since, LASSO REGRESSION coeficient of feature #2 i.e. \"radio\" is farthest from 0 which means that \"radio\" is the most important feature out of all three present')"
   ]
  },
  {
   "cell_type": "markdown",
   "metadata": {},
   "source": [
    "#### Ans: \"radio\""
   ]
  },
  {
   "cell_type": "markdown",
   "metadata": {},
   "source": [
    "######                         Done By: Saransh Gupta______________Roll Number: 17QM30005"
   ]
  }
 ],
 "metadata": {
  "kernelspec": {
   "display_name": "Python 3",
   "language": "python",
   "name": "python3"
  },
  "language_info": {
   "codemirror_mode": {
    "name": "ipython",
    "version": 3
   },
   "file_extension": ".py",
   "mimetype": "text/x-python",
   "name": "python",
   "nbconvert_exporter": "python",
   "pygments_lexer": "ipython3",
   "version": "3.7.1"
  }
 },
 "nbformat": 4,
 "nbformat_minor": 4
}
